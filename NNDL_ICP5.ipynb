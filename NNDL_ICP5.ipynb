{
  "nbformat": 4,
  "nbformat_minor": 0,
  "metadata": {
    "colab": {
      "provenance": [],
      "authorship_tag": "ABX9TyM4BufSzySU/0TDp3F42T6+",
      "include_colab_link": true
    },
    "kernelspec": {
      "name": "python3",
      "display_name": "Python 3"
    },
    "language_info": {
      "name": "python"
    }
  },
  "cells": [
    {
      "cell_type": "markdown",
      "metadata": {
        "id": "view-in-github",
        "colab_type": "text"
      },
      "source": [
        "<a href=\"https://colab.research.google.com/github/09sravyareddy/NNDL-ICP5/blob/main/NNDL_ICP5.ipynb\" target=\"_parent\"><img src=\"https://colab.research.google.com/assets/colab-badge.svg\" alt=\"Open In Colab\"/></a>"
      ]
    },
    {
      "cell_type": "code",
      "execution_count": 1,
      "metadata": {
        "colab": {
          "base_uri": "https://localhost:8080/"
        },
        "id": "rFaKgYMhq95v",
        "outputId": "3c877062-4f9f-45ad-f5ef-2bc72d0062b0"
      },
      "outputs": [
        {
          "output_type": "stream",
          "name": "stdout",
          "text": [
            "Model Accuracy: 0.558\n",
            "              precision    recall  f1-score   support\n",
            "\n",
            "           1       0.41      0.64      0.50        11\n",
            "           2       0.43      0.21      0.29        14\n",
            "           3       0.40      0.67      0.50         3\n",
            "           5       0.50      0.25      0.33         4\n",
            "           6       1.00      1.00      1.00         3\n",
            "           7       0.89      1.00      0.94         8\n",
            "\n",
            "    accuracy                           0.56        43\n",
            "   macro avg       0.60      0.63      0.59        43\n",
            "weighted avg       0.55      0.56      0.53        43\n",
            "\n"
          ]
        }
      ],
      "source": [
        "import pandas as pd\n",
        "from sklearn.model_selection import train_test_split\n",
        "from sklearn.naive_bayes import GaussianNB\n",
        "from sklearn.metrics import classification_report\n",
        "data_frame = pd.read_csv('glass.csv')\n",
        "features_train, features_test, target_train, target_test = train_test_split(data_frame.drop(\"Type\", axis=1),\n",
        "                                                                            data_frame[\"Type\"],\n",
        "                                                                            test_size=0.2,\n",
        "                                                                            random_state=42)\n",
        "gnb_model = GaussianNB()\n",
        "gnb_model.fit(features_train, target_train)\n",
        "accuracy = gnb_model.score(features_test, target_test)\n",
        "print(f'Model Accuracy: {accuracy:.3f}')\n",
        "predictions = gnb_model.predict(features_test)\n",
        "classification_rep = classification_report(target_test, predictions)\n",
        "print(classification_rep)\n"
      ]
    },
    {
      "cell_type": "code",
      "source": [
        "import pandas as pd\n",
        "from sklearn.model_selection import train_test_split\n",
        "from sklearn.svm import LinearSVC\n",
        "from sklearn.metrics import classification_report\n",
        "\n",
        "glass_data = pd.read_csv('glass.csv')\n",
        "\n",
        "features_train, features_test, labels_train, labels_test = train_test_split(\n",
        "    glass_data.drop(columns=[\"Type\"]), glass_data[\"Type\"], test_size=0.2, random_state=123)\n",
        "svc_model = LinearSVC(dual=False)\n",
        "svc_model.fit(features_train, labels_train)\n",
        "\n",
        "\n",
        "model_accuracy = svc_model.score(features_test, labels_test)\n",
        "print(f'Model Accuracy: {model_accuracy:.3f}')\n",
        "\n",
        "predicted_labels = svc_model.predict(features_test)\n",
        "detailed_report = classification_report(labels_test, predicted_labels)\n",
        "print(detailed_report)\n"
      ],
      "metadata": {
        "colab": {
          "base_uri": "https://localhost:8080/"
        },
        "id": "PEv3RA0XruSR",
        "outputId": "01f09bcc-7c7f-48a9-bd10-12fe33072d63"
      },
      "execution_count": 2,
      "outputs": [
        {
          "output_type": "stream",
          "name": "stdout",
          "text": [
            "Model Accuracy: 0.698\n",
            "              precision    recall  f1-score   support\n",
            "\n",
            "           1       0.67      0.36      0.47        11\n",
            "           2       0.54      1.00      0.70        13\n",
            "           3       0.00      0.00      0.00         3\n",
            "           5       1.00      0.33      0.50         3\n",
            "           6       1.00      0.50      0.67         2\n",
            "           7       1.00      1.00      1.00        11\n",
            "\n",
            "    accuracy                           0.70        43\n",
            "   macro avg       0.70      0.53      0.56        43\n",
            "weighted avg       0.71      0.70      0.65        43\n",
            "\n"
          ]
        },
        {
          "output_type": "stream",
          "name": "stderr",
          "text": [
            "/usr/local/lib/python3.10/dist-packages/sklearn/metrics/_classification.py:1344: UndefinedMetricWarning: Precision and F-score are ill-defined and being set to 0.0 in labels with no predicted samples. Use `zero_division` parameter to control this behavior.\n",
            "  _warn_prf(average, modifier, msg_start, len(result))\n",
            "/usr/local/lib/python3.10/dist-packages/sklearn/metrics/_classification.py:1344: UndefinedMetricWarning: Precision and F-score are ill-defined and being set to 0.0 in labels with no predicted samples. Use `zero_division` parameter to control this behavior.\n",
            "  _warn_prf(average, modifier, msg_start, len(result))\n",
            "/usr/local/lib/python3.10/dist-packages/sklearn/metrics/_classification.py:1344: UndefinedMetricWarning: Precision and F-score are ill-defined and being set to 0.0 in labels with no predicted samples. Use `zero_division` parameter to control this behavior.\n",
            "  _warn_prf(average, modifier, msg_start, len(result))\n"
          ]
        }
      ]
    }
  ]
}